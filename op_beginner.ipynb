{
 "cells": [
  {
   "cell_type": "code",
   "execution_count": 1,
   "metadata": {},
   "outputs": [],
   "source": [
    "import tensorflow as tf\n",
    "import os, sys\n",
    "\n",
    "os.environ[\"CUDA_VISIBLE_DEVICES\"]=\"-1\""
   ]
  },
  {
   "cell_type": "markdown",
   "metadata": {},
   "source": [
    "## tf.tile\n",
    "tf.tile()把tensor中的值重复。\n",
    "比如下边的例子: `a`是一个3*1的tensor，按[2,3] tile之后，获得一个[6, 3]的tensor\n",
    "* 在第一个d上(也就是Matrix a的行）重复2次；\n",
    "* 在第二个d上(Matrix a的列)上重复3次。"
   ]
  },
  {
   "cell_type": "code",
   "execution_count": 7,
   "metadata": {},
   "outputs": [
    {
     "name": "stdout",
     "output_type": "stream",
     "text": [
      "[[0 0 0]\n",
      " [1 1 1]\n",
      " [2 2 2]\n",
      " [0 0 0]\n",
      " [1 1 1]\n",
      " [2 2 2]]\n"
     ]
    }
   ],
   "source": [
    "with tf.Graph().as_default():\n",
    "    a = tf.constant([[0], [1], [2]],name='a') \n",
    "    a = tf.Print(a, [a], message=\"a=\")\n",
    "    b = tf.tile(a, [2,3], name=\"tile\")\n",
    "    sess = tf.Session()\n",
    "    print(sess.run(b))"
   ]
  },
  {
   "cell_type": "markdown",
   "metadata": {},
   "source": [
    "## tf.reduce_sum\n",
    "tf.reduce_sum是常用的求和操作。参数axis指定对哪一个d求和，相当于从结果中去掉某个dimension。如下面的例子：\n",
    "```\n",
    "a = [[\n",
    "   [2,3,1], \n",
    "   [1,1,1] \n",
    "]]\n",
    "```\n",
    "shape=（1, 2,3）可以想象成一个魔方。\n",
    "\n",
    "* axis=0的时候，去掉第一维，也就是从`[[2 3 1], [1 1 1]]`\n",
    "* axis=1的时候，结果形状就是(1,3)，结果为`[[3 4 2]]`\n",
    "* axis=2 形状为(1,2),结果为`[[6 3]]`"
   ]
  },
  {
   "cell_type": "code",
   "execution_count": 19,
   "metadata": {},
   "outputs": [
    {
     "name": "stdout",
     "output_type": "stream",
     "text": [
      "(1, 2, 3)\n",
      "tf.reduce_sum(a, axis=0): \n",
      "[[2 3 1]\n",
      " [1 1 1]]\n",
      "(2, 3)\n",
      "tf.reduce_sum(a, axis=1): \n",
      "[[3 4 2]]\n",
      "(1, 3)\n",
      "tf.reduce_sum(a, axis=2): \n",
      "[[6 3]]\n",
      "(1, 2)\n"
     ]
    }
   ],
   "source": [
    "with tf.Graph().as_default():\n",
    "    a = tf.constant([[[2,3,1], [1,1,1]]],name='a') \n",
    "    print(a.shape)\n",
    "    b = tf.reduce_sum(a, axis=0)\n",
    "    c = tf.reduce_sum(a, axis=1)\n",
    "    d = tf.reduce_sum(a, axis=2)\n",
    "    sess = tf.Session()\n",
    "    print(\"tf.reduce_sum(a, axis=0): \")\n",
    "    print(sess.run(b))\n",
    "    print(b.shape)\n",
    "    print(\"tf.reduce_sum(a, axis=1): \")\n",
    "    print(sess.run(c))\n",
    "    print(c.shape)\n",
    "    print(\"tf.reduce_sum(a, axis=2): \")\n",
    "    print(sess.run(d))\n",
    "    print(d.shape)"
   ]
  },
  {
   "cell_type": "code",
   "execution_count": null,
   "metadata": {},
   "outputs": [],
   "source": []
  }
 ],
 "metadata": {
  "kernelspec": {
   "display_name": "Python 3",
   "language": "python",
   "name": "python3"
  },
  "language_info": {
   "codemirror_mode": {
    "name": "ipython",
    "version": 3
   },
   "file_extension": ".py",
   "mimetype": "text/x-python",
   "name": "python",
   "nbconvert_exporter": "python",
   "pygments_lexer": "ipython3",
   "version": "3.6.5"
  }
 },
 "nbformat": 4,
 "nbformat_minor": 4
}
